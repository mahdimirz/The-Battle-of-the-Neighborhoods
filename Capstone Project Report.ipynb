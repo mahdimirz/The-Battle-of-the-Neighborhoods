{
    "cells": [
        {
            "cell_type": "markdown",
            "metadata": {
                "collapsed": true
            },
            "source": "This notebook will be mainly used for the capstone project."
        },
        {
            "cell_type": "code",
            "execution_count": 4,
            "metadata": {},
            "outputs": [],
            "source": "import pandas as pd\nimport numpy as np"
        },
        {
            "cell_type": "code",
            "execution_count": 5,
            "metadata": {},
            "outputs": [
                {
                    "name": "stdout",
                    "output_type": "stream",
                    "text": "Hello Capstone Project Course!\n"
                }
            ],
            "source": "print('Hello Capstone Project Course!')"
        },
        {
            "cell_type": "markdown",
            "metadata": {},
            "source": "<h1><center>Finding the Best Neighborhood in Toronto to Open an Italian Restaurant</h1></center>"
        },
        {
            "cell_type": "markdown",
            "metadata": {},
            "source": "# Introduction"
        },
        {
            "cell_type": "markdown",
            "metadata": {},
            "source": "In this project, I will try to use Data Science to find the most suitable neighborhood to open a new Italian restaurant in Toronto, which is one of the most popular types of restaurant among all nations.\nNot every available space is right for a restaurant. A good restaurant location is harder to find than some people think. There are several criteria that need to be considered in this case, the most important of which is finding the best neighborhood."
        },
        {
            "cell_type": "markdown",
            "metadata": {},
            "source": "# Target Audience"
        },
        {
            "cell_type": "markdown",
            "metadata": {},
            "source": "Our audience is a business owner who aims to open an Italian restaurant in Toronto. This choice is very crucial to them, as a restaurant's level of success strongly depends on the market competition. Another important factor would be parkings. More parkings in a neighborhood means more convenience and consequently more people coming to eat at their restaurant."
        },
        {
            "cell_type": "markdown",
            "metadata": {},
            "source": "# Business Problem"
        },
        {
            "cell_type": "markdown",
            "metadata": {},
            "source": "This project's objective is to find the answer to this question: \"If a business owner wants to open a new Italian restaurant in Toronto, which neighborhood would be the most suitable one for the restaurant's location?\" "
        },
        {
            "cell_type": "markdown",
            "metadata": {},
            "source": "# Data"
        },
        {
            "cell_type": "markdown",
            "metadata": {},
            "source": "For this project, we will need the following data:\n - List of Toronto neighborhoods\n - Coordinates for each neighborhodd\n - Venues data for each neighborhood"
        },
        {
            "cell_type": "markdown",
            "metadata": {},
            "source": "# Getting the Data"
        },
        {
            "cell_type": "markdown",
            "metadata": {},
            "source": " - Scraping the neighborhood list from the Wikipedia webpage\n - Getting the coordinates via Geocoder package\n - Getting venue data from Foursquare API"
        },
        {
            "cell_type": "markdown",
            "metadata": {},
            "source": "Venue data consists of all the registered venues in the city, such as different types of restaurants which interests us. For example, we can find out how many Italian restaurants and hw many parkings are there in Financial District. We will use these data to cluster the neighborhoods based on their similarities and the criteria important for us, then by analysing the results we will get an answer to our business problem."
        },
        {
            "cell_type": "markdown",
            "metadata": {},
            "source": "# Methodology"
        },
        {
            "cell_type": "markdown",
            "metadata": {},
            "source": "First we get the list of neighborhoods from Wikipedia page, and store it in a pandas dataframe.\nThen using the Geocoder package we will get coordinates of each neighborhood (as this method didn't work, I got the coordinates from a csv file in www.cocl.us.)"
        },
        {
            "cell_type": "markdown",
            "metadata": {},
            "source": "In the next step, to have a view of Toronto's neighborhoods, we create a folium map using the dataframe created in the previous step."
        },
        {
            "cell_type": "markdown",
            "metadata": {},
            "source": "Then, from Foursquare API, we get venues data for each neighborhood using Foursuare credentials. So we get all nearby venues in 500 meters radius with a limit of 100 venues."
        },
        {
            "cell_type": "markdown",
            "metadata": {},
            "source": "Using onehot, groupby and mean functions, we get a number between 0 and 1 for each venue in each neighborhood. Our interest would be the values for \"Italian Restaurants\"."
        },
        {
            "cell_type": "markdown",
            "metadata": {},
            "source": "Now we can use k-means clustering for our neighborhoods. We take 4 as the number of clusters. Then ww visualize these clusters on another folium map, using different colors for each cluster."
        },
        {
            "cell_type": "markdown",
            "metadata": {},
            "source": "After all, we examine each cluster to find the answer for our problem"
        },
        {
            "cell_type": "markdown",
            "metadata": {},
            "source": "# Results"
        },
        {
            "cell_type": "markdown",
            "metadata": {},
            "source": "Taking a look at the map of clusters, we can see most of the neighborhoods which aren't close to downtown are in cluster 0. This is the cluster with almost no Italian restaurants."
        },
        {
            "cell_type": "markdown",
            "metadata": {},
            "source": "We can also observe that downtown neighborhoods are mostly in clusters 0, 1 and 2."
        },
        {
            "cell_type": "markdown",
            "metadata": {},
            "source": "We can see that most of the Italian restaurants are in clusters 1, 2 and 3 respectively."
        },
        {
            "cell_type": "markdown",
            "metadata": {},
            "source": "However, clusters with Italian restaurants as their most common venue among all venues, are 3, 1, 2 respectively."
        },
        {
            "cell_type": "markdown",
            "metadata": {},
            "source": "# Discussion"
        },
        {
            "cell_type": "markdown",
            "metadata": {},
            "source": "Regarding the fact that downtown is the most populated and the busiest part of the city, downtown neighborhoods in **cluster 0**, can be proper candidates for the new restaurant's location. Examples are: **Regent Park, Harbourfront, Richmond, Adelaide, King, First Canadian Place, Underground city, Kensington Market, Chinatown, Grange Park, etc.**"
        },
        {
            "cell_type": "markdown",
            "metadata": {},
            "source": "Moreover, if our audience wants to avoid intense competition, they should better avoid choosing neighborhoods such as **The Danforth West, Riverdale, Parkdale and Roncesvalles**."
        },
        {
            "cell_type": "markdown",
            "metadata": {},
            "source": "# Conclusion"
        },
        {
            "cell_type": "markdown",
            "metadata": {},
            "source": "We can see that even in an old city such as Toronto, there can be several opportunities to open a new restaurant, or any other business. We should consider the fact that downtown is always the most popular area to open a business like a restaurant, even though the competition can be quite tough there. It's also worth to mention that there are many other factors which should be considered for this problem, such as availability of parking spaces, vicinity to tourist attractions, or the neighborhood's level of prestige, hthe most important factor "
        }
    ],
    "metadata": {
        "kernelspec": {
            "display_name": "Python 3.6",
            "language": "python",
            "name": "python3"
        },
        "language_info": {
            "codemirror_mode": {
                "name": "ipython",
                "version": 3
            },
            "file_extension": ".py",
            "mimetype": "text/x-python",
            "name": "python",
            "nbconvert_exporter": "python",
            "pygments_lexer": "ipython3",
            "version": "3.6.9"
        }
    },
    "nbformat": 4,
    "nbformat_minor": 1
}