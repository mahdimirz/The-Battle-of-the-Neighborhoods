{
    "cells": [
        {
            "cell_type": "markdown",
            "metadata": {
                "collapsed": true
            },
            "source": "This notebook will be mainly used for the capstone project."
        },
        {
            "cell_type": "code",
            "execution_count": 4,
            "metadata": {},
            "outputs": [],
            "source": "import pandas as pd\nimport numpy as np"
        },
        {
            "cell_type": "code",
            "execution_count": 5,
            "metadata": {},
            "outputs": [
                {
                    "name": "stdout",
                    "output_type": "stream",
                    "text": "Hello Capstone Project Course!\n"
                }
            ],
            "source": "print('Hello Capstone Project Course!')"
        },
        {
            "cell_type": "markdown",
            "metadata": {},
            "source": "<h1><center>Finding the Best Neighborhood in Toronto to Open an Italian Restaurant</h1></center>"
        },
        {
            "cell_type": "markdown",
            "metadata": {},
            "source": "# Introduction"
        },
        {
            "cell_type": "markdown",
            "metadata": {},
            "source": "In this project, I will try to use Data Science to find the most suitable neighborhood to open a new Italian restaurant in Toronto, which is one of the most popular types of restaurant among all nations.\nNot every available space is right for a restaurant. A good restaurant location is harder to find than some people think. There are several criteria that need to be considered in this case, the most important of which is finding the best neighborhood."
        },
        {
            "cell_type": "markdown",
            "metadata": {},
            "source": "# Target Audience"
        },
        {
            "cell_type": "markdown",
            "metadata": {},
            "source": "Our audience is a business owner who aims to open an Italian restaurant in Toronto. This choice is very crucial to them, as a restaurant's level of success strongly depends on the market competition. Another important factor would be parkings. More parkings in a neighborhood means more convenience and consequently more people coming to eat at their restaurant."
        },
        {
            "cell_type": "markdown",
            "metadata": {},
            "source": "# Business Problem"
        },
        {
            "cell_type": "markdown",
            "metadata": {},
            "source": "This project's objective is to find the answer to this question: \"If a business owner wants to open a new Italian restaurant in Toronto, which neighborhood would be the most suitable one for the restaurant's location?\" "
        }
    ],
    "metadata": {
        "kernelspec": {
            "display_name": "Python 3.6",
            "language": "python",
            "name": "python3"
        },
        "language_info": {
            "codemirror_mode": {
                "name": "ipython",
                "version": 3
            },
            "file_extension": ".py",
            "mimetype": "text/x-python",
            "name": "python",
            "nbconvert_exporter": "python",
            "pygments_lexer": "ipython3",
            "version": "3.6.9"
        }
    },
    "nbformat": 4,
    "nbformat_minor": 1
}